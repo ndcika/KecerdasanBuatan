{
  "nbformat": 4,
  "nbformat_minor": 0,
  "metadata": {
    "colab": {
      "provenance": [],
      "authorship_tag": "ABX9TyNYWgem230shmeFWXhOL3uc",
      "include_colab_link": true
    },
    "kernelspec": {
      "name": "python3",
      "display_name": "Python 3"
    },
    "language_info": {
      "name": "python"
    }
  },
  "cells": [
    {
      "cell_type": "markdown",
      "metadata": {
        "id": "view-in-github",
        "colab_type": "text"
      },
      "source": [
        "<a href=\"https://colab.research.google.com/github/ndcika/KecerdasanBuatan/blob/main/10_InthaniaNadicikaKurniawan_UninformedSearch.ipynb\" target=\"_parent\"><img src=\"https://colab.research.google.com/assets/colab-badge.svg\" alt=\"Open In Colab\"/></a>"
      ]
    },
    {
      "cell_type": "code",
      "execution_count": null,
      "metadata": {
        "colab": {
          "base_uri": "https://localhost:8080/"
        },
        "id": "Ce4pq5uF3tQD",
        "outputId": "0a649440-81c1-4319-9d0c-a836b8dc76ac"
      },
      "outputs": [
        {
          "output_type": "stream",
          "name": "stdout",
          "text": [
            "Hasil penelusuran graf menggunakan BFS: \n",
            "A B C D E F H G "
          ]
        }
      ],
      "source": [
        "graph = {\n",
        "    'A' : ['B','C'],\n",
        "    'B' : ['D','E'],\n",
        "    'C' : ['F'],\n",
        "    'D' : [],\n",
        "    'E' : ['F'],\n",
        "    'F' : ['H'],\n",
        "    'G' : ['H'],\n",
        "    'H' : ['G']\n",
        "}\n",
        "\n",
        "visited = []\n",
        "queue = []\n",
        "\n",
        "def bfs(visited, graph, node):\n",
        "  visited.append(node)\n",
        "  queue.append(node)\n",
        "\n",
        "  while queue:\n",
        "    s = queue.pop(0)\n",
        "    print (s, end = \" \")\n",
        "\n",
        "    for neighbour in graph[s]:\n",
        "      if neighbour not in visited:\n",
        "        visited.append(neighbour)\n",
        "        queue.append(neighbour)\n",
        "\n",
        "print(\"Hasil penelusuran graf menggunakan BFS: \")\n",
        "bfs(visited, graph, 'A')"
      ]
    },
    {
      "cell_type": "code",
      "source": [
        "graph = {\n",
        "    'A' : ['B','C'],\n",
        "    'B' : ['D','E'],\n",
        "    'C' : ['F'],\n",
        "    'D' : [],\n",
        "    'E' : ['F'],\n",
        "    'F' : ['H'],\n",
        "    'G' : ['H'],\n",
        "    'H' : ['G']\n",
        "}\n",
        "\n",
        "visited = set()\n",
        "\n",
        "def dfs(visited, graph, node):\n",
        "  if node not in visited:\n",
        "    print(node)\n",
        "    visited.add(node)\n",
        "    for neighbour in graph[node]:\n",
        "      dfs(visited, graph, neighbour)\n",
        "\n",
        "print(\"Hasil penelusuran graf menggunakan DFS: \")\n",
        "dfs(visited, graph, 'A')\n"
      ],
      "metadata": {
        "colab": {
          "base_uri": "https://localhost:8080/"
        },
        "id": "xH-wiCVv9RkS",
        "outputId": "410d694d-c27b-4334-b5d8-1e29f3810b90"
      },
      "execution_count": null,
      "outputs": [
        {
          "output_type": "stream",
          "name": "stdout",
          "text": [
            "Hasil penelusuran graf menggunakan DFS: \n",
            "A\n",
            "B\n",
            "D\n",
            "E\n",
            "F\n",
            "H\n",
            "G\n",
            "C\n"
          ]
        }
      ]
    },
    {
      "cell_type": "code",
      "source": [
        "# Tugas 1 BFS\n",
        "graph = {\n",
        "    'A' : ['B','E','F'],\n",
        "    'B' : ['A','F','G'],\n",
        "    'C' : ['D','G'],\n",
        "    'D' : ['C','H'],\n",
        "    'E' : ['A','F'],\n",
        "    'F' : ['A','B','E'],\n",
        "    'G' : ['B','C','H'],\n",
        "    'H' : ['D','G']\n",
        "}\n",
        "\n",
        "visited = []\n",
        "queue = []\n",
        "\n",
        "def bfs(visited, graph, node):\n",
        "  visited.append(node)\n",
        "  queue.append(node)\n",
        "\n",
        "  while queue:\n",
        "    s = queue.pop(0)\n",
        "    print (s, end = \" \")\n",
        "\n",
        "    for neighbour in graph[s]:\n",
        "      if neighbour not in visited:\n",
        "        visited.append(neighbour)\n",
        "        queue.append(neighbour)\n",
        "\n",
        "print(\"Hasil penelusuran graf menggunakan BFS: \")\n",
        "bfs(visited, graph, 'A')"
      ],
      "metadata": {
        "colab": {
          "base_uri": "https://localhost:8080/"
        },
        "id": "SgiCli9M9YfG",
        "outputId": "2f467f04-c42c-4651-f8eb-795415833868"
      },
      "execution_count": null,
      "outputs": [
        {
          "output_type": "stream",
          "name": "stdout",
          "text": [
            "Hasil penelusuran graf menggunakan BFS: \n",
            "A B E F G C H D "
          ]
        }
      ]
    },
    {
      "cell_type": "code",
      "source": [
        "# Tugas 1 DFS\n",
        "graph = {\n",
        "    'A' : ['B','E','F'],\n",
        "    'B' : ['A','F','G'],\n",
        "    'C' : ['D','G'],\n",
        "    'D' : ['C','H'],\n",
        "    'E' : ['A','F'],\n",
        "    'F' : ['A','B','E'],\n",
        "    'G' : ['B','C','H'],\n",
        "    'H' : ['D','G']\n",
        "}\n",
        "\n",
        "visited = set()\n",
        "\n",
        "def dfs(visited, graph, node):\n",
        "  if node not in visited:\n",
        "    print(node)\n",
        "    visited.add(node)\n",
        "    for neighbour in graph[node]:\n",
        "      dfs(visited, graph, neighbour)\n",
        "\n",
        "print(\"Hasil penelusuran graf menggunakan DFS: \")\n",
        "dfs(visited, graph, 'A')"
      ],
      "metadata": {
        "colab": {
          "base_uri": "https://localhost:8080/"
        },
        "id": "KRVgU8pJKLJr",
        "outputId": "32a464fd-7569-4a7f-be0b-6866ab3879c7"
      },
      "execution_count": null,
      "outputs": [
        {
          "output_type": "stream",
          "name": "stdout",
          "text": [
            "Hasil penelusuran graf menggunakan DFS: \n",
            "A\n",
            "B\n",
            "F\n",
            "E\n",
            "G\n",
            "C\n",
            "D\n",
            "H\n"
          ]
        }
      ]
    },
    {
      "cell_type": "code",
      "source": [
        "# Tugas 2 BFS\n",
        "from queue import Queue\n",
        "graph = {\n",
        "    'A' : ['B'],\n",
        "    'B' : ['A','F','G'],\n",
        "    'C' : ['D','G'],\n",
        "    'D' : ['C','H'],\n",
        "    'E' : ['F'],\n",
        "    'F' : ['B','E'],\n",
        "    'G' : ['B','C'],\n",
        "    'H' : ['D']\n",
        "}\n",
        "\n",
        "visited = {}\n",
        "level = {}\n",
        "parent = {}\n",
        "bfs = []\n",
        "queue = Queue()\n",
        "\n",
        "for node in graph.keys():\n",
        "    visited[node] = False\n",
        "    parent[node] = None\n",
        "    level[node] = -1\n",
        "    \n",
        "s = \"A\"\n",
        "visited[s] = True\n",
        "level[s] = 0\n",
        "queue.put(s)\n",
        "\n",
        "while not queue.empty():\n",
        "    u = queue.get()\n",
        "    bfs.append(u)\n",
        "    \n",
        "    for v in graph[u]:\n",
        "        if not visited[v]:\n",
        "            visited[v] = True\n",
        "            parent[v] = u\n",
        "            level[v] = level[u]+1\n",
        "            queue.put(v)\n",
        "            \n",
        "print(\"Hasil penelusuran graf menggunakan BFS : \")\n",
        "print(bfs)\n",
        "\n",
        "v = \"D\"\n",
        "path = []\n",
        "while v is not None:\n",
        "    path.append(v)\n",
        "    v = parent[v]\n",
        "path.reverse()\n",
        "\n",
        "print(\"\\nHasil penelusuran huruf 'D' graf menggunakan BFS :\\n\", path)"
      ],
      "metadata": {
        "colab": {
          "base_uri": "https://localhost:8080/"
        },
        "id": "rL1l6qc2L1oW",
        "outputId": "39ce25f9-48e8-4660-b5d6-f43669e8ae06"
      },
      "execution_count": null,
      "outputs": [
        {
          "output_type": "stream",
          "name": "stdout",
          "text": [
            "Hasil penelusuran graf menggunakan BFS : \n",
            "['A', 'B', 'F', 'G', 'E', 'C', 'D', 'H']\n",
            "\n",
            "Hasil penelusuran huruf 'D' graf menggunakan BFS :\n",
            " ['A', 'B', 'G', 'C', 'D']\n"
          ]
        }
      ]
    },
    {
      "cell_type": "code",
      "source": [
        "# Tugas 2 DFS\n",
        "color = {}\n",
        "parent = {}\n",
        "trav_time = {}\n",
        "dfs = []\n",
        "\n",
        "for node in graph.keys():\n",
        "    color[node] = \"W\"\n",
        "    parent[node] = None\n",
        "    trav_time[node] = [-1, -1]\n",
        "    \n",
        "time = 0\n",
        "def dfs_util(u):\n",
        "    global time\n",
        "    color[u] = \"G\"\n",
        "    trav_time[u][0] = time\n",
        "    dfs.append(u)\n",
        "    \n",
        "    for v in graph[u]:\n",
        "        if color[v] == \"W\":\n",
        "            parent[v] = u\n",
        "            dfs_util(v)\n",
        "    color[u] = \"B\"\n",
        "    trav_time[u][1] = time\n",
        "    time += 1\n",
        "    \n",
        "print(\"Hasil penelusuran graf menggunakan DFS : \")\n",
        "dfs_util(\"A\")\n",
        "print(dfs)\n",
        "\n",
        "v = \"D\"\n",
        "path = []\n",
        "while v is not None:\n",
        "    path.append(v)\n",
        "    v = parent[v]\n",
        "path.reverse()\n",
        "\n",
        "print(\"\\nHasil penelusuran huruf 'D' graf menggunakan DFS :\")\n",
        "print(path)"
      ],
      "metadata": {
        "colab": {
          "base_uri": "https://localhost:8080/"
        },
        "id": "Tblvh4IeSXAp",
        "outputId": "7fd47ba6-b319-40b5-ed37-175edc32f0b1"
      },
      "execution_count": null,
      "outputs": [
        {
          "output_type": "stream",
          "name": "stdout",
          "text": [
            "Hasil penelusuran graf menggunakan DFS : \n",
            "['A', 'B', 'F', 'E', 'G', 'C', 'D', 'H']\n",
            "\n",
            "Hasil penelusuran huruf 'D' graf menggunakan DFS :\n",
            "['A', 'B', 'G', 'C', 'D']\n"
          ]
        }
      ]
    }
  ]
}